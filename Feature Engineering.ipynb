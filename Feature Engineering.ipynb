{
 "cells": [
  {
   "cell_type": "code",
   "execution_count": 1,
   "id": "1f35b888",
   "metadata": {},
   "outputs": [],
   "source": [
    "import os\n",
    "from datetime import datetime \n",
    "import pandas as pd\n",
    "from geopy.distance import geodesic\n",
    "import download_data"
   ]
  },
  {
   "cell_type": "code",
   "execution_count": 2,
   "id": "4a49b06f",
   "metadata": {
    "scrolled": true
   },
   "outputs": [
    {
     "name": "stderr",
     "output_type": "stream",
     "text": [
      "/Users/tylerbell/opt/anaconda3/envs/myenv/lib/python3.8/site-packages/IPython/core/interactiveshell.py:3165: DtypeWarning: Columns (6,8) have mixed types.Specify dtype option on import or set low_memory=False.\n",
      "  has_raised = await self.run_ast_nodes(code_ast.body, cell_name,\n"
     ]
    }
   ],
   "source": [
    "# Load data. Download if haven't already\n",
    "\n",
    "data_url = \"https://divvy-tripdata.s3.amazonaws.com/index.html\"\n",
    "data_dir = os.getcwd()+'/Data'\n",
    "filename = 'raw_data.csv'\n",
    "file_location = os.path.join(data_dir,filename)\n",
    "\n",
    "if not os.path.exists(file_location):\n",
    "    download_data.download_data(data_dir,data_url)\n",
    "    filenames = os.listdir(data_dir).copy()\n",
    "    file_paths = [os.path.join(data_dir,f) for f in filenames if not f.startswith('.')]\n",
    "    raw_data = pd.concat([pd.read_csv(filepath) for filepath in file_paths])\n",
    "    raw_data.to_csv(file_location)\n",
    "else:\n",
    "    raw_data = pd.read_csv(file_location)"
   ]
  },
  {
   "cell_type": "code",
   "execution_count": 3,
   "id": "aa0f2ba4",
   "metadata": {},
   "outputs": [
    {
     "name": "stdout",
     "output_type": "stream",
     "text": [
      "In total, there are 5378834 observations in the original dataset\n",
      "\n",
      "886106 rows were dropped due to missing info\n"
     ]
    }
   ],
   "source": [
    "# Drop rows missing crucial information\n",
    "\n",
    "num_rows = len(raw_data)\n",
    "print('In total, there are {} observations in the original dataset'.format(num_rows))\n",
    "key_feats = ['ride_id','rideable_type','started_at','ended_at','start_lat','start_lng','end_lat','end_lng','member_casual', 'start_station_id','end_station_id']\n",
    "raw_data.dropna(subset = key_feats, inplace = True)\n",
    "print('\\n{} rows were dropped due to missing info'.format(num_rows-len(raw_data)))"
   ]
  },
  {
   "cell_type": "code",
   "execution_count": 4,
   "id": "8b976631",
   "metadata": {
    "scrolled": false
   },
   "outputs": [
    {
     "name": "stdout",
     "output_type": "stream",
     "text": [
      "2713 rows were dropped due to anomalous durations\n"
     ]
    }
   ],
   "source": [
    "# Handling datetime\n",
    "\n",
    "str_to_dt = lambda s: datetime.strptime(s, '%Y-%m-%d %H:%M:%S')\n",
    "raw_data['start_dt'] = raw_data['started_at'].transform(str_to_dt)\n",
    "raw_data['end_dt'] = raw_data['ended_at'].transform(str_to_dt)\n",
    "\n",
    "# Extract granular data from datetime\n",
    "\n",
    "raw_data['month'] = raw_data['start_dt'].apply(lambda x: x.month)\n",
    "raw_data['day'] = raw_data['start_dt'].apply(lambda x: x.weekday())\n",
    "raw_data['hour'] = raw_data['start_dt'].apply(lambda x: x.hour)\n",
    "\n",
    "# Calculate duration of trip\n",
    "\n",
    "start_end = zip(raw_data['start_dt'],raw_data['end_dt'])\n",
    "raw_data['delta(seconds)'] = [(end-start).total_seconds() for start,end in start_end]\n",
    "raw_data['delta(minutes)'] = raw_data['delta(seconds)']/60\n",
    "\n",
    "# Remove non postive or over 24h durations\n",
    "\n",
    "non_positive_idx = raw_data['delta(minutes)'] <= 0\n",
    "over_24hr_idx = raw_data['delta(minutes)'] > int(24*60)\n",
    "raw_data = raw_data[~(non_positive_idx|over_24hr_idx)]\n",
    "num_rows_dropped = sum((non_positive_idx|over_24hr_idx))\n",
    "\n",
    "print('{} rows were dropped due to anomalous durations'.format(num_rows_dropped))"
   ]
  },
  {
   "cell_type": "code",
   "execution_count": 5,
   "id": "1230f511",
   "metadata": {},
   "outputs": [],
   "source": [
    "# Quantize time of day\n",
    "\n",
    "bin_interval = pd.IntervalIndex.from_tuples\n",
    "bins = bin_interval([(-1, 5), (5, 11), (11, 17), (17,23)])\n",
    "labels = [\"Small Hours\", \"Morning\", \"Afternoon\", \"Evening\"]\n",
    "bin_label = dict(zip(bins,labels))\n",
    "raw_data['time_of_day'] = pd.cut(raw_data['hour'],bins).map(bin_label)\n",
    "\n",
    "# Map the month to season\n",
    "\n",
    "bins = bin_interval([(-1, 2), (2, 5), (5, 8), (8,11)])\n",
    "labels = [\"Winter\", \"Spring\", \"Summer\", \"Fall\"]\n",
    "bin_label = dict(zip(bins,labels))\n",
    "raw_data['season'] = pd.cut(raw_data['month'].apply(lambda x: x%12),bins).map(bin_label)\n",
    "\n",
    "# Create weekend boolean\n",
    "\n",
    "raw_data['is_weekend'] = raw_data['day'] >= 5\n",
    "\n",
    "# Categorize trip length\n",
    "\n",
    "bins = bin_interval([(0,10),(10,30),(30,120),(120,24*60)])\n",
    "labels = [\"Under 10mins\", \"Under 30mins\", \"Under 2hours\", \"More than 2hours\"]\n",
    "bin_label = dict(zip(bins,labels))\n",
    "raw_data[\"trip_length\"] = pd.cut(raw_data['delta(minutes)'],bins).map(bin_label)"
   ]
  },
  {
   "cell_type": "code",
   "execution_count": 6,
   "id": "ec10c249",
   "metadata": {
    "scrolled": false
   },
   "outputs": [],
   "source": [
    "# Handling geolocation data\n",
    "\n",
    "start_coords = zip(raw_data['start_lat'],raw_data['start_lng'])\n",
    "end_coords = zip(raw_data['end_lat'],raw_data['end_lng'])\n",
    "\n",
    "raw_data['start_coord'] = [(lat,lng) for lat,lng in start_coords]\n",
    "raw_data['end_coord'] = [(lat,lng) for lat,lng in end_coords]\n",
    "\n",
    "start_end_coord = zip(raw_data['start_coord'], raw_data['end_coord'])\n",
    "\n",
    "raw_data['delta(meters)'] = [geodesic(start,end).meters for start,end in start_end_coord]"
   ]
  },
  {
   "cell_type": "code",
   "execution_count": 7,
   "id": "932c2e4e",
   "metadata": {},
   "outputs": [
    {
     "name": "stdout",
     "output_type": "stream",
     "text": [
      "294 rows dropped because average velocity greater than max speed\n"
     ]
    }
   ],
   "source": [
    "# Calculating average velocity\n",
    "\n",
    "delta = zip(raw_data['delta(meters)'],raw_data['delta(seconds)'])\n",
    "raw_data['avg_velocity(m/s)'] = [m/s for m,s in delta]\n",
    "\n",
    "# Remove rows with bikes going over max speed of electric bike (20mph)\n",
    "\n",
    "mph_ms_conversion = 0.44704\n",
    "max_speed = 20*mph_ms_conversion\n",
    "\n",
    "over_limit = raw_data['avg_velocity(m/s)'] > max_speed\n",
    "\n",
    "raw_data = raw_data[~over_limit]\n",
    "v_dropped = sum(over_limit)\n",
    "\n",
    "print('{} rows dropped because average velocity greater than max speed'.format(v_dropped))"
   ]
  },
  {
   "cell_type": "code",
   "execution_count": 8,
   "id": "2c72cd4a",
   "metadata": {},
   "outputs": [
    {
     "name": "stdout",
     "output_type": "stream",
     "text": [
      "In total our cleaned data has 4489721 observations with 15 features\n"
     ]
    }
   ],
   "source": [
    "ride_cols = ['ride_id','rideable_type', 'member_casual', 'start_station_id', 'end_station_id']\n",
    "time_cols = ['month','season','day','is_weekend', 'hour', 'time_of_day']\n",
    "delta_cols = ['delta(meters)', 'delta(seconds)','trip_length','avg_velocity(m/s)']\n",
    "\n",
    "cols = [*ride_cols,*time_cols,*delta_cols]\n",
    "\n",
    "data = raw_data[cols]\n",
    "data.to_csv(os.path.join(data_dir,'clean_data.csv'), index=False)\n",
    "\n",
    "print('In total our cleaned data has {} observations with {} features'.format(len(data),len(cols)))"
   ]
  }
 ],
 "metadata": {
  "kernelspec": {
   "display_name": "Python 3",
   "language": "python",
   "name": "python3"
  },
  "language_info": {
   "codemirror_mode": {
    "name": "ipython",
    "version": 3
   },
   "file_extension": ".py",
   "mimetype": "text/x-python",
   "name": "python",
   "nbconvert_exporter": "python",
   "pygments_lexer": "ipython3",
   "version": "3.8.8"
  }
 },
 "nbformat": 4,
 "nbformat_minor": 5
}
