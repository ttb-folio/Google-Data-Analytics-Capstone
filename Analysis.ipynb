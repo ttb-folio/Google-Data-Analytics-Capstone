{
 "cells": [
  {
   "cell_type": "code",
   "execution_count": 1,
   "id": "c8d5349a",
   "metadata": {},
   "outputs": [],
   "source": [
    "import pandas as pd\n",
    "import download_data\n",
    "import feature_engineer\n",
    "import os"
   ]
  },
  {
   "cell_type": "code",
   "execution_count": null,
   "id": "d02e5b04",
   "metadata": {},
   "outputs": [],
   "source": [
    "# Check if we have the updated DF if not if not os.path.exists(data_dir):"
   ]
  },
  {
   "cell_type": "code",
   "execution_count": 3,
   "id": "a1c5b70b",
   "metadata": {},
   "outputs": [],
   "source": [
    "# 1) DOWNLOAD DATA\n",
    "data_dir = os.getcwd()+'/Data'\n",
    "data_url = \"https://divvy-tripdata.s3.amazonaws.com/index.html\"\n",
    "\n",
    "if not os.path.exists(data_dir):\n",
    "    download_data.download_data(data_dir,data_url)"
   ]
  },
  {
   "cell_type": "code",
   "execution_count": null,
   "id": "b0b7038c",
   "metadata": {},
   "outputs": [],
   "source": [
    "# 2) COMBINE + FEATURE ENGINEER"
   ]
  },
  {
   "cell_type": "code",
   "execution_count": 4,
   "id": "f6245da7",
   "metadata": {},
   "outputs": [],
   "source": [
    "feature_engineer.engineer(data_dir)"
   ]
  },
  {
   "cell_type": "code",
   "execution_count": 5,
   "id": "99ce3bde",
   "metadata": {
    "scrolled": false
   },
   "outputs": [
    {
     "name": "stderr",
     "output_type": "stream",
     "text": [
      "/Users/tylerbell/opt/anaconda3/envs/myenv/lib/python3.8/site-packages/IPython/core/interactiveshell.py:3165: DtypeWarning: Columns (5,7) have mixed types.Specify dtype option on import or set low_memory=False.\n",
      "  has_raised = await self.run_ast_nodes(code_ast.body, cell_name,\n"
     ]
    }
   ],
   "source": [
    "data = pd.read_csv(os.path.join(data_dir,'engineered_df.csv'))"
   ]
  },
  {
   "cell_type": "code",
   "execution_count": 6,
   "id": "eb9c1025",
   "metadata": {},
   "outputs": [
    {
     "data": {
      "text/plain": [
       "Index(['ride_id', 'rideable_type', 'started_at', 'ended_at',\n",
       "       'start_station_name', 'start_station_id', 'end_station_name',\n",
       "       'end_station_id', 'start_lat', 'start_lng', 'end_lat', 'end_lng',\n",
       "       'member_casual', 'year', 'month', 'weekday', 'duration',\n",
       "       'duration_mins'],\n",
       "      dtype='object')"
      ]
     },
     "execution_count": 6,
     "metadata": {},
     "output_type": "execute_result"
    }
   ],
   "source": [
    "data.columns"
   ]
  },
  {
   "cell_type": "code",
   "execution_count": 11,
   "id": "3c25faf7",
   "metadata": {},
   "outputs": [
    {
     "data": {
      "text/plain": [
       "count    5.378834e+06\n",
       "mean     2.000027e+01\n",
       "std      2.999847e+02\n",
       "min     -2.904900e+04\n",
       "25%      6.000000e+00\n",
       "50%      1.200000e+01\n",
       "75%      2.200000e+01\n",
       "max      5.594400e+04\n",
       "Name: duration_mins, dtype: float64"
      ]
     },
     "execution_count": 11,
     "metadata": {},
     "output_type": "execute_result"
    }
   ],
   "source": [
    "data.duration_mins.describe()"
   ]
  },
  {
   "cell_type": "code",
   "execution_count": 12,
   "id": "d12ab3d5",
   "metadata": {},
   "outputs": [],
   "source": [
    "# Trips that have a negative duration are erroneous.\n",
    "# Trips that are longer than a day are anomalies, and potentially\n",
    "# erroneous"
   ]
  },
  {
   "cell_type": "code",
   "execution_count": 13,
   "id": "8373d38b",
   "metadata": {},
   "outputs": [],
   "source": [
    "negative_trips = data[data.duration_mins < 0]"
   ]
  },
  {
   "cell_type": "code",
   "execution_count": 16,
   "id": "c18bec91",
   "metadata": {},
   "outputs": [
    {
     "data": {
      "text/plain": [
       "member    366\n",
       "casual    121\n",
       "Name: member_casual, dtype: int64"
      ]
     },
     "execution_count": 16,
     "metadata": {},
     "output_type": "execute_result"
    }
   ],
   "source": [
    "negative_trips['member_casual'].value_counts()"
   ]
  },
  {
   "cell_type": "code",
   "execution_count": 19,
   "id": "800b3825",
   "metadata": {},
   "outputs": [],
   "source": [
    "def duration_eval(duration):\n",
    "    if duration < 0:\n",
    "        return 0\n",
    "    elif duration >= 60*24:\n",
    "        return 1\n",
    "    else:\n",
    "        return 2"
   ]
  },
  {
   "cell_type": "code",
   "execution_count": 20,
   "id": "6a2e8d80",
   "metadata": {},
   "outputs": [],
   "source": [
    "data['de'] = data['duration_mins'].transform(duration_eval)"
   ]
  },
  {
   "cell_type": "code",
   "execution_count": 22,
   "id": "22fe3ad8",
   "metadata": {},
   "outputs": [
    {
     "data": {
      "text/plain": [
       "2    5374509\n",
       "1       3838\n",
       "0        487\n",
       "Name: de, dtype: int64"
      ]
     },
     "execution_count": 22,
     "metadata": {},
     "output_type": "execute_result"
    }
   ],
   "source": [
    "data['de'].value_counts()"
   ]
  },
  {
   "cell_type": "code",
   "execution_count": 17,
   "id": "4fd93276",
   "metadata": {
    "scrolled": true
   },
   "outputs": [
    {
     "data": {
      "text/plain": [
       "member    2908317\n",
       "casual    2470517\n",
       "Name: member_casual, dtype: int64"
      ]
     },
     "execution_count": 17,
     "metadata": {},
     "output_type": "execute_result"
    }
   ],
   "source": [
    "data.member_casual.value_counts()"
   ]
  },
  {
   "cell_type": "code",
   "execution_count": 18,
   "id": "646b5912",
   "metadata": {},
   "outputs": [
    {
     "data": {
      "text/html": [
       "<div>\n",
       "<style scoped>\n",
       "    .dataframe tbody tr th:only-of-type {\n",
       "        vertical-align: middle;\n",
       "    }\n",
       "\n",
       "    .dataframe tbody tr th {\n",
       "        vertical-align: top;\n",
       "    }\n",
       "\n",
       "    .dataframe thead th {\n",
       "        text-align: right;\n",
       "    }\n",
       "</style>\n",
       "<table border=\"1\" class=\"dataframe\">\n",
       "  <thead>\n",
       "    <tr style=\"text-align: right;\">\n",
       "      <th></th>\n",
       "      <th>Unnamed: 0</th>\n",
       "      <th>ride_id</th>\n",
       "      <th>rideable_type</th>\n",
       "      <th>started_at</th>\n",
       "      <th>ended_at</th>\n",
       "      <th>start_station_name</th>\n",
       "      <th>start_station_id</th>\n",
       "      <th>end_station_name</th>\n",
       "      <th>end_station_id</th>\n",
       "      <th>start_lat</th>\n",
       "      <th>start_lng</th>\n",
       "      <th>end_lat</th>\n",
       "      <th>end_lng</th>\n",
       "      <th>member_casual</th>\n",
       "      <th>year</th>\n",
       "      <th>month</th>\n",
       "      <th>weekday</th>\n",
       "      <th>duration</th>\n",
       "      <th>duration_mins</th>\n",
       "    </tr>\n",
       "  </thead>\n",
       "  <tbody>\n",
       "    <tr>\n",
       "      <th>0</th>\n",
       "      <td>0</td>\n",
       "      <td>BD0A6FF6FFF9B921</td>\n",
       "      <td>electric_bike</td>\n",
       "      <td>2020-11-01 13:36:00</td>\n",
       "      <td>2020-11-01 13:45:40</td>\n",
       "      <td>Dearborn St &amp; Erie St</td>\n",
       "      <td>110.0</td>\n",
       "      <td>St. Clair St &amp; Erie St</td>\n",
       "      <td>211.0</td>\n",
       "      <td>41.894177</td>\n",
       "      <td>-87.629127</td>\n",
       "      <td>41.894434</td>\n",
       "      <td>-87.623379</td>\n",
       "      <td>casual</td>\n",
       "      <td>2020</td>\n",
       "      <td>11</td>\n",
       "      <td>6</td>\n",
       "      <td>0 days 00:09:40</td>\n",
       "      <td>9</td>\n",
       "    </tr>\n",
       "    <tr>\n",
       "      <th>1</th>\n",
       "      <td>1</td>\n",
       "      <td>96A7A7A4BDE4F82D</td>\n",
       "      <td>electric_bike</td>\n",
       "      <td>2020-11-01 10:03:26</td>\n",
       "      <td>2020-11-01 10:14:45</td>\n",
       "      <td>Franklin St &amp; Illinois St</td>\n",
       "      <td>672.0</td>\n",
       "      <td>Noble St &amp; Milwaukee Ave</td>\n",
       "      <td>29.0</td>\n",
       "      <td>41.890959</td>\n",
       "      <td>-87.635343</td>\n",
       "      <td>41.900675</td>\n",
       "      <td>-87.662480</td>\n",
       "      <td>casual</td>\n",
       "      <td>2020</td>\n",
       "      <td>11</td>\n",
       "      <td>6</td>\n",
       "      <td>0 days 00:11:19</td>\n",
       "      <td>11</td>\n",
       "    </tr>\n",
       "    <tr>\n",
       "      <th>2</th>\n",
       "      <td>2</td>\n",
       "      <td>C61526D06582BDC5</td>\n",
       "      <td>electric_bike</td>\n",
       "      <td>2020-11-01 00:34:05</td>\n",
       "      <td>2020-11-01 01:03:06</td>\n",
       "      <td>Lake Shore Dr &amp; Monroe St</td>\n",
       "      <td>76.0</td>\n",
       "      <td>Federal St &amp; Polk St</td>\n",
       "      <td>41.0</td>\n",
       "      <td>41.880983</td>\n",
       "      <td>-87.616754</td>\n",
       "      <td>41.872054</td>\n",
       "      <td>-87.629550</td>\n",
       "      <td>casual</td>\n",
       "      <td>2020</td>\n",
       "      <td>11</td>\n",
       "      <td>6</td>\n",
       "      <td>0 days 00:29:01</td>\n",
       "      <td>29</td>\n",
       "    </tr>\n",
       "    <tr>\n",
       "      <th>3</th>\n",
       "      <td>3</td>\n",
       "      <td>E533E89C32080B9E</td>\n",
       "      <td>electric_bike</td>\n",
       "      <td>2020-11-01 00:45:16</td>\n",
       "      <td>2020-11-01 00:54:31</td>\n",
       "      <td>Leavitt St &amp; Chicago Ave</td>\n",
       "      <td>659.0</td>\n",
       "      <td>Stave St &amp; Armitage Ave</td>\n",
       "      <td>185.0</td>\n",
       "      <td>41.895499</td>\n",
       "      <td>-87.682013</td>\n",
       "      <td>41.917744</td>\n",
       "      <td>-87.691392</td>\n",
       "      <td>casual</td>\n",
       "      <td>2020</td>\n",
       "      <td>11</td>\n",
       "      <td>6</td>\n",
       "      <td>0 days 00:09:15</td>\n",
       "      <td>9</td>\n",
       "    </tr>\n",
       "    <tr>\n",
       "      <th>4</th>\n",
       "      <td>4</td>\n",
       "      <td>1C9F4EF18C168C60</td>\n",
       "      <td>electric_bike</td>\n",
       "      <td>2020-11-01 15:43:25</td>\n",
       "      <td>2020-11-01 16:16:52</td>\n",
       "      <td>Buckingham Fountain</td>\n",
       "      <td>2.0</td>\n",
       "      <td>Buckingham Fountain</td>\n",
       "      <td>2.0</td>\n",
       "      <td>41.876497</td>\n",
       "      <td>-87.620358</td>\n",
       "      <td>41.876448</td>\n",
       "      <td>-87.620338</td>\n",
       "      <td>casual</td>\n",
       "      <td>2020</td>\n",
       "      <td>11</td>\n",
       "      <td>6</td>\n",
       "      <td>0 days 00:33:27</td>\n",
       "      <td>33</td>\n",
       "    </tr>\n",
       "  </tbody>\n",
       "</table>\n",
       "</div>"
      ],
      "text/plain": [
       "   Unnamed: 0           ride_id  rideable_type           started_at  \\\n",
       "0           0  BD0A6FF6FFF9B921  electric_bike  2020-11-01 13:36:00   \n",
       "1           1  96A7A7A4BDE4F82D  electric_bike  2020-11-01 10:03:26   \n",
       "2           2  C61526D06582BDC5  electric_bike  2020-11-01 00:34:05   \n",
       "3           3  E533E89C32080B9E  electric_bike  2020-11-01 00:45:16   \n",
       "4           4  1C9F4EF18C168C60  electric_bike  2020-11-01 15:43:25   \n",
       "\n",
       "              ended_at         start_station_name start_station_id  \\\n",
       "0  2020-11-01 13:45:40      Dearborn St & Erie St            110.0   \n",
       "1  2020-11-01 10:14:45  Franklin St & Illinois St            672.0   \n",
       "2  2020-11-01 01:03:06  Lake Shore Dr & Monroe St             76.0   \n",
       "3  2020-11-01 00:54:31   Leavitt St & Chicago Ave            659.0   \n",
       "4  2020-11-01 16:16:52        Buckingham Fountain              2.0   \n",
       "\n",
       "           end_station_name end_station_id  start_lat  start_lng    end_lat  \\\n",
       "0    St. Clair St & Erie St          211.0  41.894177 -87.629127  41.894434   \n",
       "1  Noble St & Milwaukee Ave           29.0  41.890959 -87.635343  41.900675   \n",
       "2      Federal St & Polk St           41.0  41.880983 -87.616754  41.872054   \n",
       "3   Stave St & Armitage Ave          185.0  41.895499 -87.682013  41.917744   \n",
       "4       Buckingham Fountain            2.0  41.876497 -87.620358  41.876448   \n",
       "\n",
       "     end_lng member_casual  year  month  weekday         duration  \\\n",
       "0 -87.623379        casual  2020     11        6  0 days 00:09:40   \n",
       "1 -87.662480        casual  2020     11        6  0 days 00:11:19   \n",
       "2 -87.629550        casual  2020     11        6  0 days 00:29:01   \n",
       "3 -87.691392        casual  2020     11        6  0 days 00:09:15   \n",
       "4 -87.620338        casual  2020     11        6  0 days 00:33:27   \n",
       "\n",
       "   duration_mins  \n",
       "0              9  \n",
       "1             11  \n",
       "2             29  \n",
       "3              9  \n",
       "4             33  "
      ]
     },
     "execution_count": 18,
     "metadata": {},
     "output_type": "execute_result"
    }
   ],
   "source": []
  },
  {
   "cell_type": "code",
   "execution_count": null,
   "id": "306b9674",
   "metadata": {},
   "outputs": [],
   "source": []
  }
 ],
 "metadata": {
  "kernelspec": {
   "display_name": "Python 3",
   "language": "python",
   "name": "python3"
  },
  "language_info": {
   "codemirror_mode": {
    "name": "ipython",
    "version": 3
   },
   "file_extension": ".py",
   "mimetype": "text/x-python",
   "name": "python",
   "nbconvert_exporter": "python",
   "pygments_lexer": "ipython3",
   "version": "3.8.8"
  }
 },
 "nbformat": 4,
 "nbformat_minor": 5
}
